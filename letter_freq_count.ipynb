{
 "cells": [
  {
   "cell_type": "code",
   "execution_count": 33,
   "id": "85bb9619",
   "metadata": {},
   "outputs": [
    {
     "name": "stdout",
     "output_type": "stream",
     "text": [
      "{'A': 111, 'B': 54, 'C': 33, 'D': 48, 'E': 10, 'F': 12, 'G': 109, 'H': 121, 'I': 305, 'J': 8, 'K': 144, 'L': 32, 'M': 35, 'N': 44, 'O': 29, 'P': 88, 'Q': 2, 'R': 9, 'S': 48, 'T': 278, 'U': 1, 'V': 3, 'W': 165, 'X': 0, 'Y': 45, 'Z': 0, 'a': 3412, 'b': 548, 'c': 974, 'd': 1832, 'e': 5325, 'f': 734, 'g': 896, 'h': 2545, 'i': 2708, 'j': 32, 'k': 394, 'l': 1721, 'm': 1190, 'n': 2777, 'o': 3349, 'p': 761, 'q': 33, 'r': 2570, 's': 2708, 't': 3861, 'u': 1192, 'v': 337, 'w': 917, 'x': 42, 'y': 796, 'z': 21}\n",
      "43409\n",
      "{'A': 0.2557073417954802, 'B': 0.12439816627888226, 'C': 0.0760211016148725, 'D': 0.1105761478034509, 'E': 0.02303669745905227, 'F': 0.027644036950862726, 'G': 0.25110000230366974, 'H': 0.27874403925453245, 'I': 0.7026192725010942, 'J': 0.018429357967241815, 'K': 0.3317284434103527, 'L': 0.07371743186896726, 'M': 0.08062844110668295, 'N': 0.10136146881982999, 'O': 0.06680642263125158, 'P': 0.20272293763965998, 'Q': 0.004607339491810454, 'R': 0.020733027713147043, 'S': 0.1105761478034509, 'T': 0.6404201893616531, 'U': 0.002303669745905227, 'V': 0.006911009237715681, 'W': 0.38010550807436244, 'X': 0.0, 'Y': 0.10366513856573521, 'Z': 0.0, 'a': 7.8601211730286344, 'b': 1.2624110207560644, 'c': 2.2437743325116912, 'd': 4.220322974498376, 'e': 12.267041396945334, 'f': 1.6908935934944367, 'g': 2.0640880923310836, 'h': 5.862839503328803, 'i': 6.238337671911355, 'j': 0.07371743186896726, 'k': 0.9076458798866595, 'l': 3.9646156327028956, 'm': 2.74136699762722, 'n': 6.397290884378815, 'o': 7.714989979036606, 'p': 1.7530926766338777, 'q': 0.0760211016148725, 'r': 5.920431246976434, 's': 6.238337671911355, 't': 8.894468888940082, 'u': 2.745974337119031, 'v': 0.7763367043700615, 'w': 2.112465156995093, 'x': 0.09675412932801954, 'y': 1.8337211177405608, 'z': 0.04837706466400977}\n"
     ]
    }
   ],
   "source": [
    "import json\n",
    "\n",
    "with open('C:/Users/ojgra/projects/Scrapy/letterfreq/lettfreq/textforfreq.json') as f:\n",
    "    data = json.load(f)\n",
    "\n",
    "#print(data)\n",
    "\n",
    "\n",
    "#restrict to text starting at first_paragraph\n",
    "\n",
    "n = len(data)\n",
    "#print(n)\n",
    "\n",
    "book_text = data[3:]\n",
    "#print(book_text)\n",
    "\n",
    "for line in book_text:\n",
    "    if '\\xa0' in line['text']:\n",
    "        line['text'] = line['text'][1:]\n",
    "#print(book_text)\n",
    "\n",
    "#create a dictionary holding every letter of the alphabet\n",
    "\n",
    "letters = {}\n",
    "\n",
    "\n",
    "for x in range(65,91):\n",
    "    letters[chr(x)] = 0\n",
    "\n",
    "        \n",
    "for x in range(97,123):\n",
    "    letters[chr(x)] = 0\n",
    "#print(letters)\n",
    "#start with first letter in dictionary. for every line of text, count the number of occurences for the letter. \n",
    "#get the total number of occurrences for the letter. Repeat for each letter in alphabet dictionary. Don't forget to consider\n",
    "#upper and lowercase of each character\n",
    "\n",
    "for key in letters:\n",
    "    count  = 0\n",
    "    for line in book_text:\n",
    "        for entry in line['text']:\n",
    "            occ = entry.count(key)\n",
    "            count = count + occ\n",
    "    letters[key] = count\n",
    "print(letters)\n",
    "\n",
    "\n",
    "\n",
    "#total number of alphabetic characters: add up all totals in dictionary\n",
    "\n",
    "total = 0\n",
    "for key in letters:\n",
    "    total = total + letters[key]\n",
    "print(total)\n",
    "\n",
    "#calculate frequences of each character\n",
    "\n",
    "lett_freq = {}\n",
    "\n",
    "for key in letters:\n",
    "    lett_freq[key] = letters[key]*100/total\n",
    "\n",
    "print(lett_freq)"
   ]
  }
 ],
 "metadata": {
  "kernelspec": {
   "display_name": "Python 3 (ipykernel)",
   "language": "python",
   "name": "python3"
  },
  "language_info": {
   "codemirror_mode": {
    "name": "ipython",
    "version": 3
   },
   "file_extension": ".py",
   "mimetype": "text/x-python",
   "name": "python",
   "nbconvert_exporter": "python",
   "pygments_lexer": "ipython3",
   "version": "3.8.11"
  }
 },
 "nbformat": 4,
 "nbformat_minor": 5
}
